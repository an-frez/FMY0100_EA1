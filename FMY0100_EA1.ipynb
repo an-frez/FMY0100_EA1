{
  "nbformat": 4,
  "nbformat_minor": 0,
  "metadata": {
    "colab": {
      "provenance": [],
      "authorship_tag": "ABX9TyNi6r8ju1IUWImONkhR2MjH",
      "include_colab_link": true
    },
    "kernelspec": {
      "name": "python3",
      "display_name": "Python 3"
    },
    "language_info": {
      "name": "python"
    }
  },
  "cells": [
    {
      "cell_type": "markdown",
      "metadata": {
        "id": "view-in-github",
        "colab_type": "text"
      },
      "source": [
        "<a href=\"https://colab.research.google.com/github/an-frez/FMY0100_EA1/blob/main/FMY0100_EA1.ipynb\" target=\"_parent\"><img src=\"https://colab.research.google.com/assets/colab-badge.svg\" alt=\"Open In Colab\"/></a>"
      ]
    },
    {
      "cell_type": "code",
      "execution_count": null,
      "metadata": {
        "id": "crsv4hzf2T41"
      },
      "outputs": [],
      "source": [
        "# Evaluación Parcial 1: Estadística aplicada a Machine Learning\n",
        "# FUNDAMENTOS DE MACHINE LEARNING_001D"
      ]
    }
  ]
}